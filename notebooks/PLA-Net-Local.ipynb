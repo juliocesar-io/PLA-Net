{
 "cells": [
  {
   "cell_type": "markdown",
   "id": "c37760ff-663c-48d9-8f71-9ecda0469f96",
   "metadata": {},
   "source": [
    "# ⚛️  PLA-Net: Predicting Protein-Ligand Interactions with Deep Graph Networks\n",
    "\n",
    "Github repo: [PLA-Net](https://github.com/juliocesar-io/PLA-Net/tree/main)\n",
    "\n",
    "## Background\n",
    "\n",
    "**PLA-Net** is a deep learning model designed to predict interactions between small organic molecules (ligands) and any of the 102 target proteins in the Alzheimer's Disease (AD) dataset. By transforming molecular and protein sequences into graph representations, PLA-Net leverages Graph Convolutional Networks (GCNs) to analyze and predict target-ligand interaction probabilities. Developed by [BCV-Uniandes](https://github.com/BCV-Uniandes/PLA-Net).\n",
    "\n",
    "\n",
    "## Setup\n",
    "\n",
    "To run inference and training experiments with PLA-Net locally using a notebook. In the project folder, run the following command:\n",
    "\n",
    "Expose a volume so you can share files with the host, also make sure to expose the ports and bind to the 0.0.0.0 to have external access if you are using a server.\n",
    "\n",
    "```bash\n",
    "docker run \\\n",
    "    -it --rm --gpus all \\\n",
    "    -p 8888:8888 \\\n",
    "    -v \"$(pwd)\":/home/user/app \\\n",
    "    pla-net:latest \\\n",
    "    jupyter lab --ip 0.0.0.0 --port 8888 \n",
    "```\n",
    "\n",
    "Weights are provided for quick inference under the `pretrained-models` folder. \n",
    "\n"
   ]
  },
  {
   "cell_type": "markdown",
   "id": "92d22d1e-e239-499c-b089-014436726536",
   "metadata": {},
   "source": [
    "#### Test GPU is available"
   ]
  },
  {
   "cell_type": "code",
   "execution_count": 1,
   "id": "28a019b9-d5bc-4a21-a9d3-2e69d4854af7",
   "metadata": {},
   "outputs": [
    {
     "name": "stdout",
     "output_type": "stream",
     "text": [
      "Sat Sep 28 00:24:49 2024       \n",
      "+---------------------------------------------------------------------------------------+\n",
      "| NVIDIA-SMI 535.183.01             Driver Version: 535.183.01   CUDA Version: 12.2     |\n",
      "|-----------------------------------------+----------------------+----------------------+\n",
      "| GPU  Name                 Persistence-M | Bus-Id        Disp.A | Volatile Uncorr. ECC |\n",
      "| Fan  Temp   Perf          Pwr:Usage/Cap |         Memory-Usage | GPU-Util  Compute M. |\n",
      "|                                         |                      |               MIG M. |\n",
      "|=========================================+======================+======================|\n",
      "|   0  NVIDIA RTX A6000               Off | 00000000:01:00.0 Off |                  Off |\n",
      "| 30%   34C    P8              20W / 300W |      1MiB / 49140MiB |      0%      Default |\n",
      "|                                         |                      |                  N/A |\n",
      "+-----------------------------------------+----------------------+----------------------+\n",
      "                                                                                         \n",
      "+---------------------------------------------------------------------------------------+\n",
      "| Processes:                                                                            |\n",
      "|  GPU   GI   CI        PID   Type   Process name                            GPU Memory |\n",
      "|        ID   ID                                                             Usage      |\n",
      "|=======================================================================================|\n",
      "|  No running processes found                                                           |\n",
      "+---------------------------------------------------------------------------------------+\n"
     ]
    }
   ],
   "source": [
    "!nvidia-smi"
   ]
  },
  {
   "cell_type": "markdown",
   "id": "901d4b06-61b1-4481-be34-00dc2f4bbc1c",
   "metadata": {},
   "source": [
    "### Import dependencies"
   ]
  },
  {
   "cell_type": "code",
   "execution_count": 2,
   "id": "5335887c-ec38-442a-8e5e-de0cdd88987d",
   "metadata": {},
   "outputs": [],
   "source": [
    "import time\n",
    "import torch\n",
    "import numpy as np\n",
    "import pandas as pd\n",
    "from pathlib import Path\n",
    "from torch_geometric.data import DataLoader\n",
    "from model.model_concatenation import PLANet\n",
    "from utils.model import get_dataset_inference, test_gcn"
   ]
  },
  {
   "cell_type": "code",
   "execution_count": 3,
   "id": "1356697f-f550-4a96-a293-2a9acd769640",
   "metadata": {},
   "outputs": [
    {
     "data": {
      "text/plain": [
       "device(type='cuda', index=0)"
      ]
     },
     "execution_count": 3,
     "metadata": {},
     "output_type": "execute_result"
    }
   ],
   "source": [
    "device = torch.device(\"cuda:0\") if torch.cuda.is_available() else torch.device(\"cpu\")\n",
    "device"
   ]
  },
  {
   "cell_type": "markdown",
   "id": "48cc8403-da6f-4aea-bae9-0406d57c3104",
   "metadata": {},
   "source": [
    "## Inference\n",
    "To run inference first prepare the input ligand SMILEs in as csv file, traing the target protein or use the provided target protein \"ada\": `O6 alkyl guanine transferase I` under `pretrained-models/BINARY_ada` checkpoints to test. \n"
   ]
  },
  {
   "cell_type": "markdown",
   "id": "e9afd165-1c1e-4453-a182-cb4bc83ee321",
   "metadata": {},
   "source": [
    "### Generate the input file"
   ]
  },
  {
   "cell_type": "code",
   "execution_count": 4,
   "id": "631b550e-e34a-4ca9-9be7-8a74254b44ec",
   "metadata": {},
   "outputs": [
    {
     "data": {
      "text/html": [
       "<div>\n",
       "<style scoped>\n",
       "    .dataframe tbody tr th:only-of-type {\n",
       "        vertical-align: middle;\n",
       "    }\n",
       "\n",
       "    .dataframe tbody tr th {\n",
       "        vertical-align: top;\n",
       "    }\n",
       "\n",
       "    .dataframe thead th {\n",
       "        text-align: right;\n",
       "    }\n",
       "</style>\n",
       "<table border=\"1\" class=\"dataframe\">\n",
       "  <thead>\n",
       "    <tr style=\"text-align: right;\">\n",
       "      <th></th>\n",
       "      <th>smiles</th>\n",
       "    </tr>\n",
       "  </thead>\n",
       "  <tbody>\n",
       "    <tr>\n",
       "      <th>0</th>\n",
       "      <td>Cn4c(CCC(=O)Nc3ccc2ccn(CC[C@H](CO)n1cnc(C(N)=O...</td>\n",
       "    </tr>\n",
       "    <tr>\n",
       "      <th>1</th>\n",
       "      <td>OCCCCCn1cnc2C(O)CN=CNc12</td>\n",
       "    </tr>\n",
       "    <tr>\n",
       "      <th>2</th>\n",
       "      <td>Nc4nc(c1ccco1)c3ncn(C(=O)NCCc2ccccc2)c3n4</td>\n",
       "    </tr>\n",
       "  </tbody>\n",
       "</table>\n",
       "</div>"
      ],
      "text/plain": [
       "                                              smiles\n",
       "0  Cn4c(CCC(=O)Nc3ccc2ccn(CC[C@H](CO)n1cnc(C(N)=O...\n",
       "1                           OCCCCCn1cnc2C(O)CN=CNc12\n",
       "2          Nc4nc(c1ccco1)c3ncn(C(=O)NCCc2ccccc2)c3n4"
      ]
     },
     "execution_count": 4,
     "metadata": {},
     "output_type": "execute_result"
    }
   ],
   "source": [
    "import pandas as pd\n",
    "\n",
    "# Create a dictionary with the SMILES data\n",
    "data = {\n",
    "    \"smiles\": [\n",
    "        \"Cn4c(CCC(=O)Nc3ccc2ccn(CC[C@H](CO)n1cnc(C(N)=O)c1)c2c3)nc5ccccc45\",\n",
    "        \"OCCCCCn1cnc2C(O)CN=CNc12\",\n",
    "        \"Nc4nc(c1ccco1)c3ncn(C(=O)NCCc2ccccc2)c3n4\"\n",
    "    ]\n",
    "}\n",
    "\n",
    "# Create a DataFrame from the dictionary\n",
    "input_smiles_data_frame = pd.DataFrame(data)\n",
    "\n",
    "# Save the DataFrame to a CSV file\n",
    "file_path = \"smiles_input.csv\"\n",
    "input_smiles_data_frame.to_csv(file_path, index=False)\n",
    "\n",
    "input_smiles_data_frame"
   ]
  },
  {
   "cell_type": "markdown",
   "id": "c441936c-8d83-4c7b-befe-2fe8097cba7f",
   "metadata": {},
   "source": [
    "### Visualize the input"
   ]
  },
  {
   "cell_type": "code",
   "execution_count": 5,
   "id": "5bc8f177-c44d-4858-af6b-9338106fdb5a",
   "metadata": {},
   "outputs": [
    {
     "data": {
      "image/png": "[encoded data removed]",
      "text/plain": [
       "<IPython.core.display.Image object>"
      ]
     },
     "execution_count": 5,
     "metadata": {},
     "output_type": "execute_result"
    }
   ],
   "source": [
    "from rdkit import Chem\n",
    "from rdkit.Chem import Draw\n",
    "\n",
    "# Convert SMILES to RDKit molecule objects\n",
    "molecules = [Chem.MolFromSmiles(smile) for smile in input_smiles_data_frame[\"smiles\"]]\n",
    "\n",
    "# Generate the molecule images and display it in Jupyter\n",
    "img = Draw.MolsToGridImage(molecules, molsPerRow=3, subImgSize=(300, 300))\n",
    "img"
   ]
  },
  {
   "cell_type": "markdown",
   "id": "4ed3f936-2a37-4aaa-9b62-35fc1b819c65",
   "metadata": {},
   "source": [
    "### Select the target protein"
   ]
  },
  {
   "cell_type": "code",
   "execution_count": 6,
   "id": "683a0f68-a1e9-4bbf-8c12-272b9dfcbeeb",
   "metadata": {},
   "outputs": [
    {
     "data": {
      "text/html": [
       "<div>\n",
       "<style scoped>\n",
       "    .dataframe tbody tr th:only-of-type {\n",
       "        vertical-align: middle;\n",
       "    }\n",
       "\n",
       "    .dataframe tbody tr th {\n",
       "        vertical-align: top;\n",
       "    }\n",
       "\n",
       "    .dataframe thead th {\n",
       "        text-align: right;\n",
       "    }\n",
       "</style>\n",
       "<table border=\"1\" class=\"dataframe\">\n",
       "  <thead>\n",
       "    <tr style=\"text-align: right;\">\n",
       "      <th></th>\n",
       "      <th>Fasta</th>\n",
       "      <th>Target</th>\n",
       "      <th>Label</th>\n",
       "    </tr>\n",
       "  </thead>\n",
       "  <tbody>\n",
       "    <tr>\n",
       "      <th>0</th>\n",
       "      <td>MSDVAIVKEGWLHKRGEYIKTWRPRYFLLKNDGTFIGYKERPQDVD...</td>\n",
       "      <td>akt1</td>\n",
       "      <td>0</td>\n",
       "    </tr>\n",
       "    <tr>\n",
       "      <th>1</th>\n",
       "      <td>MLSNSQGQSPPVPFPAPAPPPQPPTPALPHPPAQPPPPPPQQFPQF...</td>\n",
       "      <td>mapk2</td>\n",
       "      <td>1</td>\n",
       "    </tr>\n",
       "    <tr>\n",
       "      <th>2</th>\n",
       "      <td>MAHVRGLQLPGCLALAALCSLVHSQHVFLAPQQARSLLQRVRRANT...</td>\n",
       "      <td>thrb</td>\n",
       "      <td>2</td>\n",
       "    </tr>\n",
       "    <tr>\n",
       "      <th>3</th>\n",
       "      <td>MWSWKCLLFWAVLVTATLCTARPSPTLPEQAQPWGAPVEVESFLVH...</td>\n",
       "      <td>fgfr1</td>\n",
       "      <td>3</td>\n",
       "    </tr>\n",
       "    <tr>\n",
       "      <th>4</th>\n",
       "      <td>MRALLARLLLCVLVVSDSKGSNELHQVPSNCDCLNGGTCVSNKYFS...</td>\n",
       "      <td>urok</td>\n",
       "      <td>4</td>\n",
       "    </tr>\n",
       "    <tr>\n",
       "      <th>...</th>\n",
       "      <td>...</td>\n",
       "      <td>...</td>\n",
       "      <td>...</td>\n",
       "    </tr>\n",
       "    <tr>\n",
       "      <th>97</th>\n",
       "      <td>MEQPQEEAPEVREEEEKEEVAEAEGAPELNGGPQHALPSSSYTDLS...</td>\n",
       "      <td>ppard</td>\n",
       "      <td>97</td>\n",
       "    </tr>\n",
       "    <tr>\n",
       "      <th>98</th>\n",
       "      <td>MENGYTYEDYKNTAEWLLSHTKHRPQVAIICGSGLGGLTDKLTQAQ...</td>\n",
       "      <td>pnph</td>\n",
       "      <td>98</td>\n",
       "    </tr>\n",
       "    <tr>\n",
       "      <th>99</th>\n",
       "      <td>MLEICLKLVGCKSKKGLSSSSSCYLEEALQRPVASDFEPQGLSEAA...</td>\n",
       "      <td>abl1</td>\n",
       "      <td>99</td>\n",
       "    </tr>\n",
       "    <tr>\n",
       "      <th>100</th>\n",
       "      <td>MDSLVVLVLCLSCLLLLSLWRQSSGRGKLPPGPTPLPVIGNILQIG...</td>\n",
       "      <td>cp2c9</td>\n",
       "      <td>100</td>\n",
       "    </tr>\n",
       "    <tr>\n",
       "      <th>101</th>\n",
       "      <td>METKGYHSLPEGLDMERRWGQVSQAVERSSLGPTERTDENNYMEIV...</td>\n",
       "      <td>mcr</td>\n",
       "      <td>101</td>\n",
       "    </tr>\n",
       "  </tbody>\n",
       "</table>\n",
       "<p>102 rows × 3 columns</p>\n",
       "</div>"
      ],
      "text/plain": [
       "                                                 Fasta Target  Label\n",
       "0    MSDVAIVKEGWLHKRGEYIKTWRPRYFLLKNDGTFIGYKERPQDVD...   akt1      0\n",
       "1    MLSNSQGQSPPVPFPAPAPPPQPPTPALPHPPAQPPPPPPQQFPQF...  mapk2      1\n",
       "2    MAHVRGLQLPGCLALAALCSLVHSQHVFLAPQQARSLLQRVRRANT...   thrb      2\n",
       "3    MWSWKCLLFWAVLVTATLCTARPSPTLPEQAQPWGAPVEVESFLVH...  fgfr1      3\n",
       "4    MRALLARLLLCVLVVSDSKGSNELHQVPSNCDCLNGGTCVSNKYFS...   urok      4\n",
       "..                                                 ...    ...    ...\n",
       "97   MEQPQEEAPEVREEEEKEEVAEAEGAPELNGGPQHALPSSSYTDLS...  ppard     97\n",
       "98   MENGYTYEDYKNTAEWLLSHTKHRPQVAIICGSGLGGLTDKLTQAQ...   pnph     98\n",
       "99   MLEICLKLVGCKSKKGLSSSSSCYLEEALQRPVASDFEPQGLSEAA...   abl1     99\n",
       "100  MDSLVVLVLCLSCLLLLSLWRQSSGRGKLPPGPTPLPVIGNILQIG...  cp2c9    100\n",
       "101  METKGYHSLPEGLDMERRWGQVSQAVERSSLGPTERTDENNYMEIV...    mcr    101\n",
       "\n",
       "[102 rows x 3 columns]"
      ]
     },
     "execution_count": 6,
     "metadata": {},
     "output_type": "execute_result"
    }
   ],
   "source": [
    "TARGET_PROTEIN_CODE = \"ada\"\n",
    "\n",
    "target_list = \"./Targets_Fasta.csv\"\n",
    "data_target = pd.read_csv(target_list, names=[\"Fasta\", \"Target\", \"Label\"])\n",
    "target_sequence = data_target[data_target['Target'] == TARGET_PROTEIN_CODE]\n",
    "data_target"
   ]
  },
  {
   "cell_type": "markdown",
   "id": "01ffe939-2c97-4fdb-b079-a49993e6ab5f",
   "metadata": {},
   "source": [
    "### Prepare the inference dataset\n",
    "\n",
    "#### Get input target sequence graph respresentation with torch gometric\n",
    "Convert the target protein sequence into a graph representation"
   ]
  },
  {
   "cell_type": "code",
   "execution_count": 7,
   "id": "1386c5f4-8c37-49bd-95db-17862e8d77cd",
   "metadata": {},
   "outputs": [
    {
     "name": "stdout",
     "output_type": "stream",
     "text": [
      "Input target sequence: MAQTPAFDKPKVELHVHLDGSIKPETILYYGRRRGIALPANTAEGLLNVIGMDKPLTLPDFLAKFDYYMPAIAGCREAIKRIAYEFVEMKAKEGVVYVEVRYSPHLLANSKVEPIPWNQAEGDLTPDEVVALVGQGLQEGERDFGVKARSILCCMRHQPNWSPKVVELCKKYQQQTVVAIDLAGDETIPGSSLLPGHVQAYQEAVKSGIHRTVHAGEVGSAEVVKEAVDILKTERLGHGYHTLEDQALYNRLRQENMHFEICPWSSYLTGAWKPDTEHAVIRLKNDQANYSLNTDDPLIFKSTLDTDYQMTKRDMGFTEEEFKRLNINAAKSSFLPEDEKRELLDLLYKAYGMPPSASAGQNL\n",
      "Input Graph protein representation: Data(x=[2869, 9], edge_index=[2, 5868], edge_attr=[5868, 3])\n"
     ]
    }
   ],
   "source": [
    "from torch_geometric.data import Data\n",
    "from notebooks.data_preparation import protein_to_graph\n",
    "\n",
    "sequence_string = target_sequence[\"Fasta\"].values[0]\n",
    "print(f\"Input target sequence: {sequence_string}\")\n",
    "\n",
    "def process_input_protein(sequence_string: str):\n",
    "    \n",
    "    edge_attr_p, edge_index_p, x_p = protein_to_graph(sequence_string)\n",
    "    x_p = torch.tensor(x_p)\n",
    "    edge_index_p = torch.tensor(edge_index_p)\n",
    "    edge_attr_p = torch.tensor(edge_attr_p)\n",
    "    \n",
    "    protein_graph = Data(edge_attr=edge_attr_p, edge_index=edge_index_p, x=x_p)\n",
    "    \n",
    "    print(f\"Input Graph protein representation: {protein_graph}\")\n",
    "\n",
    "    return protein_graph\n",
    "\n",
    "protein_graph = process_input_protein(sequence_string)"
   ]
  },
  {
   "cell_type": "markdown",
   "id": "5ccecb13-bee5-45da-bcba-7f2dfe3669c0",
   "metadata": {},
   "source": [
    "#### Build the inference dataset with the input ligands \n",
    "Next step is to add the input smiles list to the dataset converting each ligand into the graph representation alogside our `protein_graph`"
   ]
  },
  {
   "cell_type": "code",
   "execution_count": 8,
   "id": "95a9cd85-f23c-4ad5-8978-239583860969",
   "metadata": {},
   "outputs": [
    {
     "data": {
      "text/plain": [
       "[[Data(x=[37, 9], edge_index=[2, 82], edge_attr=[82, 3], y=[1], mol=<rdkit.Chem.rdchem.Mol object at 0x7570cd76e320>, smiles='Cn4c(CCC(=O)Nc3ccc2ccn(CC[C@H](CO)n1cnc(C(N)=O)c1)c2c3)nc5ccccc45'),\n",
       "  Data(x=[2869, 9], edge_index=[2, 5868], edge_attr=[5868, 3])],\n",
       " [Data(x=[17, 9], edge_index=[2, 36], edge_attr=[36, 3], y=[1], mol=<rdkit.Chem.rdchem.Mol object at 0x7570cd76dd20>, smiles='OCCCCCn1cnc2C(O)CN=CNc12'),\n",
       "  Data(x=[2869, 9], edge_index=[2, 5868], edge_attr=[5868, 3])],\n",
       " [Data(x=[26, 9], edge_index=[2, 58], edge_attr=[58, 3], y=[1], mol=<rdkit.Chem.rdchem.Mol object at 0x7570cd76e980>, smiles='Nc4nc(c1ccco1)c3ncn(C(=O)NCCc2ccccc2)c3n4'),\n",
       "  Data(x=[2869, 9], edge_index=[2, 5868], edge_attr=[5868, 3])]]"
      ]
     },
     "execution_count": 8,
     "metadata": {},
     "output_type": "execute_result"
    }
   ],
   "source": [
    "from tqdm import tqdm\n",
    "from rdkit import Chem\n",
    "from notebooks.data_preparation import smiles_to_graph\n",
    "\n",
    "\n",
    "def process_input_smile(smile_string: str):\n",
    "    DEFAULT_LABEL = 0\n",
    "    edge_attr, edge_index, x = smiles_to_graph(smile_string)\n",
    "    x = torch.tensor(x)\n",
    "    y = torch.tensor([DEFAULT_LABEL])\n",
    "    edge_index = torch.tensor(edge_index)\n",
    "    edge_attr = torch.tensor(edge_attr)\n",
    "    \n",
    "    mol = Chem.MolFromSmiles(smile_string)\n",
    "    \n",
    "    return Data(\n",
    "        edge_attr=edge_attr, \n",
    "        edge_index=edge_index, \n",
    "        x=x, \n",
    "        y=y, \n",
    "        mol=mol, \n",
    "        smiles=smile_string\n",
    "    )\n",
    "\n",
    "def get_input_dataset():\n",
    "    DEFAULT_LABEL = 0\n",
    "    input_dataset = []\n",
    "    \n",
    "    for smiles in input_smiles_data_frame[\"smiles\"]:\n",
    "        smiles_graph = process_input_smile(smiles)\n",
    "        input_dataset.append([smiles_graph, protein_graph])\n",
    "\n",
    "    return input_dataset\n",
    "get_input_dataset()"
   ]
  },
  {
   "cell_type": "markdown",
   "id": "1aef907d-0ef8-42c5-b14b-c6106afe9e24",
   "metadata": {},
   "source": [
    "#### Load the inference Dataset into the model\n"
   ]
  },
  {
   "cell_type": "code",
   "execution_count": 9,
   "id": "d73fc508-9ccb-4d69-b3f8-1af29b9e6857",
   "metadata": {},
   "outputs": [
    {
     "name": "stderr",
     "output_type": "stream",
     "text": [
      "/opt/conda/lib/python3.10/site-packages/torch_geometric/deprecation.py:12: UserWarning: 'data.DataLoader' is deprecated, use 'loader.DataLoader' instead\n",
      "  warnings.warn(out)\n"
     ]
    },
    {
     "name": "stdout",
     "output_type": "stream",
     "text": [
      "The number of layers 20 Aggr aggregation method softmax block: res+\n",
      "The number of layers 20 Aggr aggregation method softmax block: res+\n",
      "PLANet(\n",
      "  (molecule_gcn): DeeperGCN(\n",
      "    (gcns): ModuleList(\n",
      "      (0): GENConv()\n",
      "      (1): GENConv()\n",
      "      (2): GENConv()\n",
      "      (3): GENConv()\n",
      "      (4): GENConv()\n",
      "      (5): GENConv()\n",
      "      (6): GENConv()\n",
      "      (7): GENConv()\n",
      "      (8): GENConv()\n",
      "      (9): GENConv()\n",
      "      (10): GENConv()\n",
      "      (11): GENConv()\n",
      "      (12): GENConv()\n",
      "      (13): GENConv()\n",
      "      (14): GENConv()\n",
      "      (15): GENConv()\n",
      "      (16): GENConv()\n",
      "      (17): GENConv()\n",
      "      (18): GENConv()\n",
      "      (19): GENConv()\n",
      "    )\n",
      "    (norms): ModuleList(\n",
      "      (0): BatchNorm1d(128, eps=1e-05, momentum=0.1, affine=True, track_running_stats=True)\n",
      "      (1): BatchNorm1d(128, eps=1e-05, momentum=0.1, affine=True, track_running_stats=True)\n",
      "      (2): BatchNorm1d(128, eps=1e-05, momentum=0.1, affine=True, track_running_stats=True)\n",
      "      (3): BatchNorm1d(128, eps=1e-05, momentum=0.1, affine=True, track_running_stats=True)\n",
      "      (4): BatchNorm1d(128, eps=1e-05, momentum=0.1, affine=True, track_running_stats=True)\n",
      "      (5): BatchNorm1d(128, eps=1e-05, momentum=0.1, affine=True, track_running_stats=True)\n",
      "      (6): BatchNorm1d(128, eps=1e-05, momentum=0.1, affine=True, track_running_stats=True)\n",
      "      (7): BatchNorm1d(128, eps=1e-05, momentum=0.1, affine=True, track_running_stats=True)\n",
      "      (8): BatchNorm1d(128, eps=1e-05, momentum=0.1, affine=True, track_running_stats=True)\n",
      "      (9): BatchNorm1d(128, eps=1e-05, momentum=0.1, affine=True, track_running_stats=True)\n",
      "      (10): BatchNorm1d(128, eps=1e-05, momentum=0.1, affine=True, track_running_stats=True)\n",
      "      (11): BatchNorm1d(128, eps=1e-05, momentum=0.1, affine=True, track_running_stats=True)\n",
      "      (12): BatchNorm1d(128, eps=1e-05, momentum=0.1, affine=True, track_running_stats=True)\n",
      "      (13): BatchNorm1d(128, eps=1e-05, momentum=0.1, affine=True, track_running_stats=True)\n",
      "      (14): BatchNorm1d(128, eps=1e-05, momentum=0.1, affine=True, track_running_stats=True)\n",
      "      (15): BatchNorm1d(128, eps=1e-05, momentum=0.1, affine=True, track_running_stats=True)\n",
      "      (16): BatchNorm1d(128, eps=1e-05, momentum=0.1, affine=True, track_running_stats=True)\n",
      "      (17): BatchNorm1d(128, eps=1e-05, momentum=0.1, affine=True, track_running_stats=True)\n",
      "      (18): BatchNorm1d(128, eps=1e-05, momentum=0.1, affine=True, track_running_stats=True)\n",
      "      (19): BatchNorm1d(128, eps=1e-05, momentum=0.1, affine=True, track_running_stats=True)\n",
      "    )\n",
      "    (atom_encoder): AtomEncoder(\n",
      "      (atom_embedding_list): ModuleList(\n",
      "        (0): Embedding(119, 128)\n",
      "        (1): Embedding(4, 128)\n",
      "        (2): Embedding(12, 128)\n",
      "        (3): Embedding(12, 128)\n",
      "        (4): Embedding(10, 128)\n",
      "        (5): Embedding(6, 128)\n",
      "        (6): Embedding(6, 128)\n",
      "        (7): Embedding(2, 128)\n",
      "        (8): Embedding(2, 128)\n",
      "      )\n",
      "    )\n",
      "    (graph_pred_linear): Linear(in_features=128, out_features=2, bias=True)\n",
      "  )\n",
      "  (target_gcn): DeeperGCN(\n",
      "    (gcns): ModuleList(\n",
      "      (0): GENConv()\n",
      "      (1): GENConv()\n",
      "      (2): GENConv()\n",
      "      (3): GENConv()\n",
      "      (4): GENConv()\n",
      "      (5): GENConv()\n",
      "      (6): GENConv()\n",
      "      (7): GENConv()\n",
      "      (8): GENConv()\n",
      "      (9): GENConv()\n",
      "      (10): GENConv()\n",
      "      (11): GENConv()\n",
      "      (12): GENConv()\n",
      "      (13): GENConv()\n",
      "      (14): GENConv()\n",
      "      (15): GENConv()\n",
      "      (16): GENConv()\n",
      "      (17): GENConv()\n",
      "      (18): GENConv()\n",
      "      (19): GENConv()\n",
      "    )\n",
      "    (norms): ModuleList(\n",
      "      (0): BatchNorm1d(128, eps=1e-05, momentum=0.1, affine=True, track_running_stats=True)\n",
      "      (1): BatchNorm1d(128, eps=1e-05, momentum=0.1, affine=True, track_running_stats=True)\n",
      "      (2): BatchNorm1d(128, eps=1e-05, momentum=0.1, affine=True, track_running_stats=True)\n",
      "      (3): BatchNorm1d(128, eps=1e-05, momentum=0.1, affine=True, track_running_stats=True)\n",
      "      (4): BatchNorm1d(128, eps=1e-05, momentum=0.1, affine=True, track_running_stats=True)\n",
      "      (5): BatchNorm1d(128, eps=1e-05, momentum=0.1, affine=True, track_running_stats=True)\n",
      "      (6): BatchNorm1d(128, eps=1e-05, momentum=0.1, affine=True, track_running_stats=True)\n",
      "      (7): BatchNorm1d(128, eps=1e-05, momentum=0.1, affine=True, track_running_stats=True)\n",
      "      (8): BatchNorm1d(128, eps=1e-05, momentum=0.1, affine=True, track_running_stats=True)\n",
      "      (9): BatchNorm1d(128, eps=1e-05, momentum=0.1, affine=True, track_running_stats=True)\n",
      "      (10): BatchNorm1d(128, eps=1e-05, momentum=0.1, affine=True, track_running_stats=True)\n",
      "      (11): BatchNorm1d(128, eps=1e-05, momentum=0.1, affine=True, track_running_stats=True)\n",
      "      (12): BatchNorm1d(128, eps=1e-05, momentum=0.1, affine=True, track_running_stats=True)\n",
      "      (13): BatchNorm1d(128, eps=1e-05, momentum=0.1, affine=True, track_running_stats=True)\n",
      "      (14): BatchNorm1d(128, eps=1e-05, momentum=0.1, affine=True, track_running_stats=True)\n",
      "      (15): BatchNorm1d(128, eps=1e-05, momentum=0.1, affine=True, track_running_stats=True)\n",
      "      (16): BatchNorm1d(128, eps=1e-05, momentum=0.1, affine=True, track_running_stats=True)\n",
      "      (17): BatchNorm1d(128, eps=1e-05, momentum=0.1, affine=True, track_running_stats=True)\n",
      "      (18): BatchNorm1d(128, eps=1e-05, momentum=0.1, affine=True, track_running_stats=True)\n",
      "      (19): BatchNorm1d(128, eps=1e-05, momentum=0.1, affine=True, track_running_stats=True)\n",
      "    )\n",
      "    (atom_encoder): AtomEncoder(\n",
      "      (atom_embedding_list): ModuleList(\n",
      "        (0): Embedding(119, 128)\n",
      "        (1): Embedding(4, 128)\n",
      "        (2): Embedding(12, 128)\n",
      "        (3): Embedding(12, 128)\n",
      "        (4): Embedding(10, 128)\n",
      "        (5): Embedding(6, 128)\n",
      "        (6): Embedding(6, 128)\n",
      "        (7): Embedding(2, 128)\n",
      "        (8): Embedding(2, 128)\n",
      "      )\n",
      "    )\n",
      "    (bond_encoder): BondEncoder(\n",
      "      (bond_embedding_list): ModuleList(\n",
      "        (0): Embedding(5, 128)\n",
      "        (1): Embedding(6, 128)\n",
      "        (2): Embedding(2, 128)\n",
      "      )\n",
      "    )\n",
      "    (graph_pred_linear): Linear(in_features=128, out_features=2, bias=True)\n",
      "  )\n",
      "  (concatenation_gcn): Linear(in_features=256, out_features=128, bias=True)\n",
      "  (classification): Linear(in_features=128, out_features=2, bias=True)\n",
      ")\n"
     ]
    }
   ],
   "source": [
    "from torch_geometric.data import DataLoader\n",
    "from notebooks.pla_net_model import PLANet\n",
    "from notebooks.deeper_gcn import DeeperGCN\n",
    "\n",
    "inference_data_loader = DataLoader(\n",
    "    get_input_dataset(), \n",
    "    batch_size=10, \n",
    "    shuffle=False,\n",
    "    num_workers=0\n",
    ")\n",
    "\n",
    "# Sample initialization parameters\n",
    "hidden_channels_smiles = 128       # Hidden channels for the molecule network\n",
    "hidden_channels_prot = 128         # Hidden channels for the protein network \\ the dimension of embeddings of nodes and edges\n",
    "nclasses = 2                       # Number of output classes, 2 for binary classification\n",
    "norm = 'batch'                     # Normalization type (optional for MLP)\n",
    "\n",
    "\n",
    "# Molecule and protein networks\n",
    "molecule_gcn = DeeperGCN(hidden_channels_smiles, conv_encode_edge=True)\n",
    "target_gcn = DeeperGCN(hidden_channels_prot, is_prot=True, num_layers_prot=20, mlp_layers_prot=3, hidden_channels_prot=hidden_channels_prot, conv_encode_edge_prot=False)\n",
    "\n",
    "\n",
    "# Initialize the PLANet model\n",
    "planet_model = PLANet(\n",
    "    molecule_gcn,\n",
    "    target_gcn,\n",
    "    hidden_channels_smiles,\n",
    "    hidden_channels_prot,\n",
    "    nclasses,\n",
    "    norm=norm\n",
    ").to(device)\n",
    "print(planet_model)"
   ]
  },
  {
   "cell_type": "markdown",
   "id": "64d77caa-5b2c-4f7c-9a88-b5e3c3a753d1",
   "metadata": {},
   "source": [
    "#### Reference List of Model Parameters for the GCN\n",
    "Handbook reference to play with the model"
   ]
  },
  {
   "cell_type": "markdown",
   "id": "68ea4032-7e94-4ff7-a426-56a2fab9761d",
   "metadata": {},
   "source": [
    "```bash\n",
    "molecule_gcn = DeeperGCN(\n",
    "    num_layers=20,                       # Number of layers in the GCN network (default: 20)\n",
    "    mlp_layers=3,                        # Number of MLP layers in each GCN layer (default: 3)\n",
    "    hidden_channels=128,                 # Dimension of hidden embeddings for nodes/edges (default: 128)\n",
    "    msg_norm=False,                      # Whether to use message normalization in GCN layers (default: False)\n",
    "    learn_msg_scale=False,               # Whether the message scale is learnable (default: False)\n",
    "    conv_encode_edge=False,              # Whether to encode edge features within the convolution (default: False)\n",
    "    dropout=0.2,                         # Dropout rate for layers to prevent overfitting (default: 0.2)\n",
    "    block=\"res+\",                        # Type of GCN block {res+, res, dense, plain} (default: \"res+\")\n",
    "    add_virtual_node=False,              # Whether to add a virtual node in the graph (default: False)\n",
    "    conv=\"gen\",                          # Type of convolution (e.g., \"gen\" for generalized convolution) (default: \"gen\")\n",
    "    aggr=\"softmax\",                      # Aggregation method used in the GCN layer [mean, max, add, softmax] (default: \"softmax\")\n",
    "    t=1.0,                               # Temperature parameter for softmax aggregation (default: 1.0)\n",
    "    learn_t=False,                       # Whether the temperature parameter t is learnable (default: False)\n",
    "    p=1.0,                               # Power parameter for PowerMean aggregation (default: 1.0)\n",
    "    learn_p=False,                       # Whether the power parameter p is learnable (default: False)\n",
    "    norm=\"batch\",                        # Normalization type applied to layers (\"batch\", \"layer\") (default: \"batch\")\n",
    "    graph_pooling=\"mean\",                # Pooling method for graph-level representations (\"sum\", \"mean\", \"max\") (default: \"mean\")\n",
    "    nclasses=102,                        # Number of output classes for the classification task (default: 102)\n",
    "\n",
    "    # Protein-specific configurations (for networks involving proteins)\n",
    "    num_layers_prot=20,                  # Number of layers in the protein GCN network (default: 20)\n",
    "    mlp_layers_prot=3,                   # Number of MLP layers in each protein GCN layer (default: 3)\n",
    "    hidden_channels_prot=128,            # Dimension of hidden embeddings for protein nodes/edges (default: 128)\n",
    "    msg_norm_prot=False,                 # Whether to use message normalization for protein GCN layers (default: False)\n",
    "    learn_msg_scale_prot=False,          # Whether the message scale for protein GCN layers is learnable (default: False)\n",
    "    conv_encode_edge_prot=False,         # Whether to encode protein edge features within the convolution (default: False)\n",
    "    saliency=False                       # Whether to backpropagate saliency through the atom features (default: False)\n",
    "    is_prot=False                        # Whether to use protein mode\n",
    ")\n",
    "```"
   ]
  },
  {
   "cell_type": "markdown",
   "id": "cb506b45-2f93-4d16-9b9b-11dc75bbeacd",
   "metadata": {},
   "source": [
    "### Inference\n"
   ]
  },
  {
   "cell_type": "code",
   "execution_count": 10,
   "id": "02028197-05e3-47c2-ab58-4c261c952380",
   "metadata": {},
   "outputs": [
    {
     "name": "stderr",
     "output_type": "stream",
     "text": [
      "Iteration:   0%|                                                                                         | 0/1 [00:00<?, ?it/s]\n"
     ]
    },
    {
     "name": "stdout",
     "output_type": "stream",
     "text": [
      "model_name: pretrained-models/BINARY_ada/Fold1/Best_Model.pth\n"
     ]
    },
    {
     "ename": "NotImplementedError",
     "evalue": "Module [GENConv] is missing the required \"forward\" function",
     "output_type": "error",
     "traceback": [
      "\u001b[0;31m---------------------------------------------------------------------------\u001b[0m",
      "\u001b[0;31mNotImplementedError\u001b[0m                       Traceback (most recent call last)",
      "Cell \u001b[0;32mIn[10], line 6\u001b[0m\n\u001b[1;32m      3\u001b[0m \u001b[38;5;66;03m# Set the pretrained model for the target protein, the folder should container the Folds and each \"Best_Model.pth\" files.\u001b[39;00m\n\u001b[1;32m      4\u001b[0m pre_trained_model_checkpoints_path \u001b[38;5;241m=\u001b[39m \u001b[38;5;124mf\u001b[39m\u001b[38;5;124m\"\u001b[39m\u001b[38;5;124mpretrained-models/BINARY_\u001b[39m\u001b[38;5;132;01m{\u001b[39;00mTARGET_PROTEIN_CODE\u001b[38;5;132;01m}\u001b[39;00m\u001b[38;5;124m/\u001b[39m\u001b[38;5;124m\"\u001b[39m\n\u001b[0;32m----> 6\u001b[0m \u001b[43mrun_inference_model_gcn\u001b[49m\u001b[43m(\u001b[49m\n\u001b[1;32m      7\u001b[0m \u001b[43m    \u001b[49m\u001b[43mmodel\u001b[49m\u001b[38;5;241;43m=\u001b[39;49m\u001b[43mplanet_model\u001b[49m\u001b[43m,\u001b[49m\n\u001b[1;32m      8\u001b[0m \u001b[43m    \u001b[49m\u001b[43mdevice\u001b[49m\u001b[38;5;241;43m=\u001b[39;49m\u001b[43mdevice\u001b[49m\u001b[43m,\u001b[49m\n\u001b[1;32m      9\u001b[0m \u001b[43m    \u001b[49m\u001b[43mloader\u001b[49m\u001b[38;5;241;43m=\u001b[39;49m\u001b[43minference_data_loader\u001b[49m\u001b[43m,\u001b[49m\n\u001b[1;32m     10\u001b[0m \u001b[43m    \u001b[49m\u001b[43muse_prot\u001b[49m\u001b[38;5;241;43m=\u001b[39;49m\u001b[38;5;28;43;01mTrue\u001b[39;49;00m\u001b[43m,\u001b[49m\n\u001b[1;32m     11\u001b[0m \u001b[43m    \u001b[49m\u001b[43mfeature\u001b[49m\u001b[38;5;241;43m=\u001b[39;49m\u001b[38;5;124;43m'\u001b[39;49m\u001b[38;5;124;43mfull\u001b[39;49m\u001b[38;5;124;43m'\u001b[39;49m\u001b[43m,\u001b[49m\n\u001b[1;32m     12\u001b[0m \u001b[43m    \u001b[49m\u001b[43mnum_features\u001b[49m\u001b[38;5;241;43m=\u001b[39;49m\u001b[38;5;241;43m2\u001b[39;49m\u001b[43m,\u001b[49m\n\u001b[1;32m     13\u001b[0m \u001b[43m    \u001b[49m\u001b[43mtarget\u001b[49m\u001b[38;5;241;43m=\u001b[39;49m\u001b[43mTARGET_PROTEIN_CODE\u001b[49m\u001b[43m,\u001b[49m\n\u001b[1;32m     14\u001b[0m \u001b[43m    \u001b[49m\u001b[43moutput_file\u001b[49m\u001b[38;5;241;43m=\u001b[39;49m\u001b[38;5;124;43m'\u001b[39;49m\u001b[38;5;124;43moutput.csv\u001b[39;49m\u001b[38;5;124;43m'\u001b[39;49m\u001b[43m,\u001b[49m\n\u001b[1;32m     15\u001b[0m \u001b[43m    \u001b[49m\u001b[43mtarget_checkpoint_path\u001b[49m\u001b[38;5;241;43m=\u001b[39;49m\u001b[43mpre_trained_model_checkpoints_path\u001b[49m\n\u001b[1;32m     16\u001b[0m \u001b[43m)\u001b[49m\n",
      "File \u001b[0;32m/opt/conda/lib/python3.10/site-packages/torch/autograd/grad_mode.py:27\u001b[0m, in \u001b[0;36m_DecoratorContextManager.__call__.<locals>.decorate_context\u001b[0;34m(*args, **kwargs)\u001b[0m\n\u001b[1;32m     24\u001b[0m \u001b[38;5;129m@functools\u001b[39m\u001b[38;5;241m.\u001b[39mwraps(func)\n\u001b[1;32m     25\u001b[0m \u001b[38;5;28;01mdef\u001b[39;00m \u001b[38;5;21mdecorate_context\u001b[39m(\u001b[38;5;241m*\u001b[39margs, \u001b[38;5;241m*\u001b[39m\u001b[38;5;241m*\u001b[39mkwargs):\n\u001b[1;32m     26\u001b[0m     \u001b[38;5;28;01mwith\u001b[39;00m \u001b[38;5;28mself\u001b[39m\u001b[38;5;241m.\u001b[39mclone():\n\u001b[0;32m---> 27\u001b[0m         \u001b[38;5;28;01mreturn\u001b[39;00m \u001b[43mfunc\u001b[49m\u001b[43m(\u001b[49m\u001b[38;5;241;43m*\u001b[39;49m\u001b[43margs\u001b[49m\u001b[43m,\u001b[49m\u001b[43m \u001b[49m\u001b[38;5;241;43m*\u001b[39;49m\u001b[38;5;241;43m*\u001b[39;49m\u001b[43mkwargs\u001b[49m\u001b[43m)\u001b[49m\n",
      "File \u001b[0;32m~/.local/lib/python3.10/site-packages/notebooks/inference_gcn.py:71\u001b[0m, in \u001b[0;36mrun_inference_model_gcn\u001b[0;34m(model, device, loader, use_prot, feature, num_features, target, output_file, target_checkpoint_path)\u001b[0m\n\u001b[1;32m     69\u001b[0m model\u001b[38;5;241m.\u001b[39meval()\n\u001b[1;32m     70\u001b[0m \u001b[38;5;28;01mif\u001b[39;00m use_prot:\n\u001b[0;32m---> 71\u001b[0m     pred \u001b[38;5;241m=\u001b[39m \u001b[43mmodel\u001b[49m\u001b[43m(\u001b[49m\u001b[43mbatch_mol\u001b[49m\u001b[43m,\u001b[49m\u001b[43m \u001b[49m\u001b[43mbatch_prot\u001b[49m\u001b[43m)\u001b[49m\n\u001b[1;32m     72\u001b[0m \u001b[38;5;28;01melse\u001b[39;00m:\n\u001b[1;32m     73\u001b[0m     pred \u001b[38;5;241m=\u001b[39m model(batch_mol)\n",
      "File \u001b[0;32m/opt/conda/lib/python3.10/site-packages/torch/nn/modules/module.py:1194\u001b[0m, in \u001b[0;36mModule._call_impl\u001b[0;34m(self, *input, **kwargs)\u001b[0m\n\u001b[1;32m   1190\u001b[0m \u001b[38;5;66;03m# If we don't have any hooks, we want to skip the rest of the logic in\u001b[39;00m\n\u001b[1;32m   1191\u001b[0m \u001b[38;5;66;03m# this function, and just call forward.\u001b[39;00m\n\u001b[1;32m   1192\u001b[0m \u001b[38;5;28;01mif\u001b[39;00m \u001b[38;5;129;01mnot\u001b[39;00m (\u001b[38;5;28mself\u001b[39m\u001b[38;5;241m.\u001b[39m_backward_hooks \u001b[38;5;129;01mor\u001b[39;00m \u001b[38;5;28mself\u001b[39m\u001b[38;5;241m.\u001b[39m_forward_hooks \u001b[38;5;129;01mor\u001b[39;00m \u001b[38;5;28mself\u001b[39m\u001b[38;5;241m.\u001b[39m_forward_pre_hooks \u001b[38;5;129;01mor\u001b[39;00m _global_backward_hooks\n\u001b[1;32m   1193\u001b[0m         \u001b[38;5;129;01mor\u001b[39;00m _global_forward_hooks \u001b[38;5;129;01mor\u001b[39;00m _global_forward_pre_hooks):\n\u001b[0;32m-> 1194\u001b[0m     \u001b[38;5;28;01mreturn\u001b[39;00m \u001b[43mforward_call\u001b[49m\u001b[43m(\u001b[49m\u001b[38;5;241;43m*\u001b[39;49m\u001b[38;5;28;43minput\u001b[39;49m\u001b[43m,\u001b[49m\u001b[43m \u001b[49m\u001b[38;5;241;43m*\u001b[39;49m\u001b[38;5;241;43m*\u001b[39;49m\u001b[43mkwargs\u001b[49m\u001b[43m)\u001b[49m\n\u001b[1;32m   1195\u001b[0m \u001b[38;5;66;03m# Do not call functions when jit is used\u001b[39;00m\n\u001b[1;32m   1196\u001b[0m full_backward_hooks, non_full_backward_hooks \u001b[38;5;241m=\u001b[39m [], []\n",
      "File \u001b[0;32m~/.local/lib/python3.10/site-packages/notebooks/pla_net_model.py:59\u001b[0m, in \u001b[0;36mPLANet.forward\u001b[0;34m(self, molecule, target)\u001b[0m\n\u001b[1;32m     57\u001b[0m \u001b[38;5;28;01mdef\u001b[39;00m \u001b[38;5;21mforward\u001b[39m(\u001b[38;5;28mself\u001b[39m, molecule, target):\n\u001b[0;32m---> 59\u001b[0m     molecule_features \u001b[38;5;241m=\u001b[39m \u001b[38;5;28;43mself\u001b[39;49m\u001b[38;5;241;43m.\u001b[39;49m\u001b[43mmolecule_gcn\u001b[49m\u001b[43m(\u001b[49m\u001b[43mmolecule\u001b[49m\u001b[43m)\u001b[49m\n\u001b[1;32m     60\u001b[0m     target_features \u001b[38;5;241m=\u001b[39m \u001b[38;5;28mself\u001b[39m\u001b[38;5;241m.\u001b[39mtarget_gcn(target)\n\u001b[1;32m     61\u001b[0m     \u001b[38;5;66;03m# Multiplier\u001b[39;00m\n",
      "File \u001b[0;32m/opt/conda/lib/python3.10/site-packages/torch/nn/modules/module.py:1194\u001b[0m, in \u001b[0;36mModule._call_impl\u001b[0;34m(self, *input, **kwargs)\u001b[0m\n\u001b[1;32m   1190\u001b[0m \u001b[38;5;66;03m# If we don't have any hooks, we want to skip the rest of the logic in\u001b[39;00m\n\u001b[1;32m   1191\u001b[0m \u001b[38;5;66;03m# this function, and just call forward.\u001b[39;00m\n\u001b[1;32m   1192\u001b[0m \u001b[38;5;28;01mif\u001b[39;00m \u001b[38;5;129;01mnot\u001b[39;00m (\u001b[38;5;28mself\u001b[39m\u001b[38;5;241m.\u001b[39m_backward_hooks \u001b[38;5;129;01mor\u001b[39;00m \u001b[38;5;28mself\u001b[39m\u001b[38;5;241m.\u001b[39m_forward_hooks \u001b[38;5;129;01mor\u001b[39;00m \u001b[38;5;28mself\u001b[39m\u001b[38;5;241m.\u001b[39m_forward_pre_hooks \u001b[38;5;129;01mor\u001b[39;00m _global_backward_hooks\n\u001b[1;32m   1193\u001b[0m         \u001b[38;5;129;01mor\u001b[39;00m _global_forward_hooks \u001b[38;5;129;01mor\u001b[39;00m _global_forward_pre_hooks):\n\u001b[0;32m-> 1194\u001b[0m     \u001b[38;5;28;01mreturn\u001b[39;00m \u001b[43mforward_call\u001b[49m\u001b[43m(\u001b[49m\u001b[38;5;241;43m*\u001b[39;49m\u001b[38;5;28;43minput\u001b[39;49m\u001b[43m,\u001b[49m\u001b[43m \u001b[49m\u001b[38;5;241;43m*\u001b[39;49m\u001b[38;5;241;43m*\u001b[39;49m\u001b[43mkwargs\u001b[49m\u001b[43m)\u001b[49m\n\u001b[1;32m   1195\u001b[0m \u001b[38;5;66;03m# Do not call functions when jit is used\u001b[39;00m\n\u001b[1;32m   1196\u001b[0m full_backward_hooks, non_full_backward_hooks \u001b[38;5;241m=\u001b[39m [], []\n",
      "File \u001b[0;32m~/.local/lib/python3.10/site-packages/notebooks/deeper_gcn.py:134\u001b[0m, in \u001b[0;36mDeeperGCN.forward\u001b[0;34m(self, input_batch, dropout, embeddings)\u001b[0m\n\u001b[1;32m    130\u001b[0m     edge_emb \u001b[38;5;241m=\u001b[39m \u001b[38;5;28mself\u001b[39m\u001b[38;5;241m.\u001b[39mbond_encoder(edge_attr)\n\u001b[1;32m    132\u001b[0m \u001b[38;5;28;01mif\u001b[39;00m \u001b[38;5;28mself\u001b[39m\u001b[38;5;241m.\u001b[39mblock \u001b[38;5;241m==\u001b[39m \u001b[38;5;124m\"\u001b[39m\u001b[38;5;124mres+\u001b[39m\u001b[38;5;124m\"\u001b[39m:\n\u001b[0;32m--> 134\u001b[0m     h \u001b[38;5;241m=\u001b[39m \u001b[38;5;28;43mself\u001b[39;49m\u001b[38;5;241;43m.\u001b[39;49m\u001b[43mgcns\u001b[49m\u001b[43m[\u001b[49m\u001b[38;5;241;43m0\u001b[39;49m\u001b[43m]\u001b[49m\u001b[43m(\u001b[49m\u001b[43mh\u001b[49m\u001b[43m,\u001b[49m\u001b[43m \u001b[49m\u001b[43medge_index\u001b[49m\u001b[43m,\u001b[49m\u001b[43m \u001b[49m\u001b[43medge_emb\u001b[49m\u001b[43m)\u001b[49m\n\u001b[1;32m    136\u001b[0m     \u001b[38;5;28;01mfor\u001b[39;00m layer \u001b[38;5;129;01min\u001b[39;00m \u001b[38;5;28mrange\u001b[39m(\u001b[38;5;241m1\u001b[39m, \u001b[38;5;28mself\u001b[39m\u001b[38;5;241m.\u001b[39mnum_layers):\n\u001b[1;32m    137\u001b[0m         h1 \u001b[38;5;241m=\u001b[39m \u001b[38;5;28mself\u001b[39m\u001b[38;5;241m.\u001b[39mnorms[layer \u001b[38;5;241m-\u001b[39m \u001b[38;5;241m1\u001b[39m](h)\n",
      "File \u001b[0;32m/opt/conda/lib/python3.10/site-packages/torch/nn/modules/module.py:1194\u001b[0m, in \u001b[0;36mModule._call_impl\u001b[0;34m(self, *input, **kwargs)\u001b[0m\n\u001b[1;32m   1190\u001b[0m \u001b[38;5;66;03m# If we don't have any hooks, we want to skip the rest of the logic in\u001b[39;00m\n\u001b[1;32m   1191\u001b[0m \u001b[38;5;66;03m# this function, and just call forward.\u001b[39;00m\n\u001b[1;32m   1192\u001b[0m \u001b[38;5;28;01mif\u001b[39;00m \u001b[38;5;129;01mnot\u001b[39;00m (\u001b[38;5;28mself\u001b[39m\u001b[38;5;241m.\u001b[39m_backward_hooks \u001b[38;5;129;01mor\u001b[39;00m \u001b[38;5;28mself\u001b[39m\u001b[38;5;241m.\u001b[39m_forward_hooks \u001b[38;5;129;01mor\u001b[39;00m \u001b[38;5;28mself\u001b[39m\u001b[38;5;241m.\u001b[39m_forward_pre_hooks \u001b[38;5;129;01mor\u001b[39;00m _global_backward_hooks\n\u001b[1;32m   1193\u001b[0m         \u001b[38;5;129;01mor\u001b[39;00m _global_forward_hooks \u001b[38;5;129;01mor\u001b[39;00m _global_forward_pre_hooks):\n\u001b[0;32m-> 1194\u001b[0m     \u001b[38;5;28;01mreturn\u001b[39;00m \u001b[43mforward_call\u001b[49m\u001b[43m(\u001b[49m\u001b[38;5;241;43m*\u001b[39;49m\u001b[38;5;28;43minput\u001b[39;49m\u001b[43m,\u001b[49m\u001b[43m \u001b[49m\u001b[38;5;241;43m*\u001b[39;49m\u001b[38;5;241;43m*\u001b[39;49m\u001b[43mkwargs\u001b[49m\u001b[43m)\u001b[49m\n\u001b[1;32m   1195\u001b[0m \u001b[38;5;66;03m# Do not call functions when jit is used\u001b[39;00m\n\u001b[1;32m   1196\u001b[0m full_backward_hooks, non_full_backward_hooks \u001b[38;5;241m=\u001b[39m [], []\n",
      "File \u001b[0;32m/opt/conda/lib/python3.10/site-packages/torch/nn/modules/module.py:246\u001b[0m, in \u001b[0;36m_forward_unimplemented\u001b[0;34m(self, *input)\u001b[0m\n\u001b[1;32m    235\u001b[0m \u001b[38;5;28;01mdef\u001b[39;00m \u001b[38;5;21m_forward_unimplemented\u001b[39m(\u001b[38;5;28mself\u001b[39m, \u001b[38;5;241m*\u001b[39m\u001b[38;5;28minput\u001b[39m: Any) \u001b[38;5;241m-\u001b[39m\u001b[38;5;241m>\u001b[39m \u001b[38;5;28;01mNone\u001b[39;00m:\n\u001b[1;32m    236\u001b[0m \u001b[38;5;250m    \u001b[39m\u001b[38;5;124mr\u001b[39m\u001b[38;5;124;03m\"\"\"Defines the computation performed at every call.\u001b[39;00m\n\u001b[1;32m    237\u001b[0m \n\u001b[1;32m    238\u001b[0m \u001b[38;5;124;03m    Should be overridden by all subclasses.\u001b[39;00m\n\u001b[0;32m   (...)\u001b[0m\n\u001b[1;32m    244\u001b[0m \u001b[38;5;124;03m        registered hooks while the latter silently ignores them.\u001b[39;00m\n\u001b[1;32m    245\u001b[0m \u001b[38;5;124;03m    \"\"\"\u001b[39;00m\n\u001b[0;32m--> 246\u001b[0m     \u001b[38;5;28;01mraise\u001b[39;00m \u001b[38;5;167;01mNotImplementedError\u001b[39;00m(\u001b[38;5;124mf\u001b[39m\u001b[38;5;124m\"\u001b[39m\u001b[38;5;124mModule [\u001b[39m\u001b[38;5;132;01m{\u001b[39;00m\u001b[38;5;28mtype\u001b[39m(\u001b[38;5;28mself\u001b[39m)\u001b[38;5;241m.\u001b[39m\u001b[38;5;18m__name__\u001b[39m\u001b[38;5;132;01m}\u001b[39;00m\u001b[38;5;124m] is missing the required \u001b[39m\u001b[38;5;130;01m\\\"\u001b[39;00m\u001b[38;5;124mforward\u001b[39m\u001b[38;5;130;01m\\\"\u001b[39;00m\u001b[38;5;124m function\u001b[39m\u001b[38;5;124m\"\u001b[39m)\n",
      "\u001b[0;31mNotImplementedError\u001b[0m: Module [GENConv] is missing the required \"forward\" function"
     ]
    }
   ],
   "source": [
    "from notebooks.inference_gcn import run_inference_model_gcn\n",
    "\n",
    "# Set the pretrained model for the target protein, the folder should container the Folds and each \"Best_Model.pth\" files.\n",
    "pre_trained_model_checkpoints_path = f\"pretrained-models/BINARY_{TARGET_PROTEIN_CODE}/\"\n",
    "\n",
    "run_inference_model_gcn(\n",
    "    model=planet_model,\n",
    "    device=device,\n",
    "    loader=inference_data_loader,\n",
    "    use_prot=True,\n",
    "    feature='full',\n",
    "    num_features=2,\n",
    "    target=TARGET_PROTEIN_CODE,\n",
    "    output_file='output.csv',\n",
    "    target_checkpoint_path=pre_trained_model_checkpoints_path\n",
    ")\n"
   ]
  },
  {
   "cell_type": "code",
   "execution_count": null,
   "id": "88339173-b041-4cff-a6ac-f294709f5caa",
   "metadata": {},
   "outputs": [],
   "source": []
  },
  {
   "cell_type": "code",
   "execution_count": null,
   "id": "d20edc56-8b66-4b98-8a92-b83a084e016e",
   "metadata": {},
   "outputs": [],
   "source": []
  },
  {
   "cell_type": "code",
   "execution_count": null,
   "id": "f953d0f4-e818-4f7d-bce0-6a5ed55b8b50",
   "metadata": {},
   "outputs": [],
   "source": []
  }
 ],
 "metadata": {
  "kernelspec": {
   "display_name": "Python 3 (ipykernel)",
   "language": "python",
   "name": "python3"
  },
  "language_info": {
   "codemirror_mode": {
    "name": "ipython",
    "version": 3
   },
   "file_extension": ".py",
   "mimetype": "text/x-python",
   "name": "python",
   "nbconvert_exporter": "python",
   "pygments_lexer": "ipython3",
   "version": "3.10.8"
  }
 },
 "nbformat": 4,
 "nbformat_minor": 5
}
